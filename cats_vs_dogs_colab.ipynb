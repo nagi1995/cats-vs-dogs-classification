{
  "nbformat": 4,
  "nbformat_minor": 0,
  "metadata": {
    "colab": {
      "name": "cats_vs_dogs.ipynb",
      "provenance": [],
      "collapsed_sections": [],
      "include_colab_link": true
    },
    "kernelspec": {
      "name": "python3",
      "display_name": "Python 3"
    },
    "language_info": {
      "name": "python"
    },
    "accelerator": "GPU"
  },
  "cells": [
    {
      "cell_type": "markdown",
      "metadata": {
        "id": "view-in-github",
        "colab_type": "text"
      },
      "source": [
        "<a href=\"https://colab.research.google.com/github/nagi1995/cats-vs-dogs-classification/blob/main/cats_vs_dogs_colab.ipynb\" target=\"_parent\"><img src=\"https://colab.research.google.com/assets/colab-badge.svg\" alt=\"Open In Colab\"/></a>"
      ]
    },
    {
      "cell_type": "code",
      "metadata": {
        "id": "U31c-5utVLbK"
      },
      "source": [
        "from google.colab import files\n",
        "files.upload()"
      ],
      "execution_count": null,
      "outputs": []
    },
    {
      "cell_type": "code",
      "metadata": {
        "id": "hAFN-M3iVduD"
      },
      "source": [
        "!mkdir -p ~/.kaggle\n",
        "!cp kaggle.json ~/.kaggle/\n",
        "# change permission\n",
        "!chmod 600 ~/.kaggle/kaggle.json"
      ],
      "execution_count": 2,
      "outputs": []
    },
    {
      "cell_type": "code",
      "metadata": {
        "id": "-nY5AUuJVDvr"
      },
      "source": [
        "!kaggle competitions download -c dogs-vs-cats"
      ],
      "execution_count": null,
      "outputs": []
    },
    {
      "cell_type": "code",
      "metadata": {
        "id": "3yv9VP9KVgCt"
      },
      "source": [
        "!unzip \"/content/train.zip\" -d \"./\"\n",
        "!unzip \"/content/test1.zip\" -d \"./\""
      ],
      "execution_count": null,
      "outputs": []
    },
    {
      "cell_type": "code",
      "metadata": {
        "id": "KMBxAOfFWQT-"
      },
      "source": [
        "import os\n",
        "import numpy as np\n",
        "import pandas as pd\n",
        "import tensorflow as tf\n",
        "from tensorflow.keras.layers import *\n",
        "from tensorflow.keras.util import plot_model\n",
        "from tensorflow.keras.callbacks import *\n",
        "from tensorflow.keras import Sequential\n",
        "from tensorflow.keras.preprocessing.image import ImageDataGenerator\n",
        "from sklearn.model_selection import train_test_split\n",
        "import cv2\n",
        "import random"
      ],
      "execution_count": 5,
      "outputs": []
    },
    {
      "cell_type": "code",
      "metadata": {
        "colab": {
          "base_uri": "https://localhost:8080/",
          "height": 35
        },
        "id": "pYXzynohWfaz",
        "outputId": "7f84a932-af55-4ab3-f7c5-62eae3bcc9d3"
      },
      "source": [
        "tf.__version__"
      ],
      "execution_count": 6,
      "outputs": [
        {
          "output_type": "execute_result",
          "data": {
            "application/vnd.google.colaboratory.intrinsic+json": {
              "type": "string"
            },
            "text/plain": [
              "'2.5.0'"
            ]
          },
          "metadata": {
            "tags": []
          },
          "execution_count": 6
        }
      ]
    },
    {
      "cell_type": "code",
      "metadata": {
        "colab": {
          "base_uri": "https://localhost:8080/"
        },
        "id": "LoOATes_V4Yf",
        "outputId": "9ac90e1d-1292-4622-cd39-9c9eb94e3608"
      },
      "source": [
        "len(os.listdir(\"/content/test1\")), len(os.listdir(\"/content/train\"))"
      ],
      "execution_count": 7,
      "outputs": [
        {
          "output_type": "execute_result",
          "data": {
            "text/plain": [
              "(12500, 25000)"
            ]
          },
          "metadata": {
            "tags": []
          },
          "execution_count": 7
        }
      ]
    },
    {
      "cell_type": "code",
      "metadata": {
        "colab": {
          "base_uri": "https://localhost:8080/"
        },
        "id": "Wo0nhKSuWrU-",
        "outputId": "d24352c5-6e04-439a-a137-dbb6a0f09e63"
      },
      "source": [
        "for i in random.sample(range(len(os.listdir(\"/content/train\"))), 10):\n",
        "  print(cv2.imread(\"/content/train/\" + os.listdir(\"/content/train\")[i]).shape)"
      ],
      "execution_count": 8,
      "outputs": [
        {
          "output_type": "stream",
          "text": [
            "(499, 341, 3)\n",
            "(261, 350, 3)\n",
            "(312, 285, 3)\n",
            "(166, 220, 3)\n",
            "(374, 500, 3)\n",
            "(500, 389, 3)\n",
            "(121, 181, 3)\n",
            "(197, 278, 3)\n",
            "(299, 400, 3)\n",
            "(189, 221, 3)\n"
          ],
          "name": "stdout"
        }
      ]
    },
    {
      "cell_type": "code",
      "metadata": {
        "id": "Z7EIKCaBXLja"
      },
      "source": [
        "Image_Width = 128\n",
        "Image_Height = 128\n",
        "Image_Size = (Image_Width, Image_Height)\n",
        "Image_Channels = 3"
      ],
      "execution_count": 9,
      "outputs": []
    },
    {
      "cell_type": "code",
      "metadata": {
        "colab": {
          "base_uri": "https://localhost:8080/",
          "height": 204
        },
        "id": "iLrvZ9jEX-af",
        "outputId": "14371b56-ee19-468e-b3e9-5044068417c6"
      },
      "source": [
        "dataset_path = \"./train\"\n",
        "\n",
        "filenames = os.listdir(dataset_path)\n",
        "categories = []\n",
        "for f_name in filenames:\n",
        "    \n",
        "    if(f_name.split(\".\")[0] == \"dog\"):\n",
        "        categories.append(1)\n",
        "    else:\n",
        "        categories.append(0)\n",
        "\n",
        "df = pd.DataFrame({'filename':filenames, 'category':categories})\n",
        "df.head()"
      ],
      "execution_count": 10,
      "outputs": [
        {
          "output_type": "execute_result",
          "data": {
            "text/html": [
              "<div>\n",
              "<style scoped>\n",
              "    .dataframe tbody tr th:only-of-type {\n",
              "        vertical-align: middle;\n",
              "    }\n",
              "\n",
              "    .dataframe tbody tr th {\n",
              "        vertical-align: top;\n",
              "    }\n",
              "\n",
              "    .dataframe thead th {\n",
              "        text-align: right;\n",
              "    }\n",
              "</style>\n",
              "<table border=\"1\" class=\"dataframe\">\n",
              "  <thead>\n",
              "    <tr style=\"text-align: right;\">\n",
              "      <th></th>\n",
              "      <th>filename</th>\n",
              "      <th>category</th>\n",
              "    </tr>\n",
              "  </thead>\n",
              "  <tbody>\n",
              "    <tr>\n",
              "      <th>0</th>\n",
              "      <td>dog.10405.jpg</td>\n",
              "      <td>1</td>\n",
              "    </tr>\n",
              "    <tr>\n",
              "      <th>1</th>\n",
              "      <td>dog.4244.jpg</td>\n",
              "      <td>1</td>\n",
              "    </tr>\n",
              "    <tr>\n",
              "      <th>2</th>\n",
              "      <td>cat.3857.jpg</td>\n",
              "      <td>0</td>\n",
              "    </tr>\n",
              "    <tr>\n",
              "      <th>3</th>\n",
              "      <td>dog.8589.jpg</td>\n",
              "      <td>1</td>\n",
              "    </tr>\n",
              "    <tr>\n",
              "      <th>4</th>\n",
              "      <td>dog.8456.jpg</td>\n",
              "      <td>1</td>\n",
              "    </tr>\n",
              "  </tbody>\n",
              "</table>\n",
              "</div>"
            ],
            "text/plain": [
              "        filename  category\n",
              "0  dog.10405.jpg         1\n",
              "1   dog.4244.jpg         1\n",
              "2   cat.3857.jpg         0\n",
              "3   dog.8589.jpg         1\n",
              "4   dog.8456.jpg         1"
            ]
          },
          "metadata": {
            "tags": []
          },
          "execution_count": 10
        }
      ]
    },
    {
      "cell_type": "code",
      "metadata": {
        "id": "MbEQUnJTcXsK"
      },
      "source": [
        "reduce_lr = ReduceLROnPlateau(monitor = \"val_loss\", \n",
        "                              factor = .4642, \n",
        "                              patience = 3, \n",
        "                              verbose = 1, \n",
        "                              min_delta = 0.001, \n",
        "                              mode = \"min\")\n",
        "earlystop = EarlyStopping(monitor = \"val_loss\", \n",
        "                          patience = 10, \n",
        "                          verbose = 1, \n",
        "                          mode = \"min\"\n",
        "                          )\n"
      ],
      "execution_count": 11,
      "outputs": []
    },
    {
      "cell_type": "code",
      "metadata": {
        "colab": {
          "base_uri": "https://localhost:8080/"
        },
        "id": "yWIhc43XYLCV",
        "outputId": "974f63d8-9a6e-443e-e9c0-edb744acdde3"
      },
      "source": [
        "tf.keras.backend.clear_session()\n",
        "model = Sequential()\n",
        "model.add(Conv2D(32, (3, 3), input_shape = (Image_Width, Image_Height, Image_Channels)))\n",
        "model.add(BatchNormalization())\n",
        "model.add(Activation(\"relu\"))\n",
        "model.add(MaxPooling2D(pool_size = (2, 2)))\n",
        "model.add(Dropout(0.25))\n",
        "\n",
        "model.add(Conv2D(64, (3, 3)))\n",
        "model.add(BatchNormalization())\n",
        "model.add(Activation(\"relu\"))\n",
        "model.add(MaxPooling2D(pool_size = (2, 2)))\n",
        "model.add(Dropout(0.25))\n",
        "\n",
        "model.add(Conv2D(128, (3, 3)))\n",
        "model.add(BatchNormalization())\n",
        "model.add(Activation(\"relu\"))\n",
        "model.add(MaxPooling2D(pool_size = (2, 2)))\n",
        "model.add(Dropout(0.25))\n",
        "\n",
        "model.add(Flatten())\n",
        "model.add(Dense(64))\n",
        "model.add(Dropout(0.5))\n",
        "model.add(Dense(2, activation = 'softmax'))\n",
        "\n",
        "model.compile(loss = 'binary_crossentropy', optimizer = 'adam', metrics = ['accuracy'])\n",
        "model.summary()"
      ],
      "execution_count": null,
      "outputs": [
        {
          "output_type": "stream",
          "text": [
            "Model: \"sequential\"\n",
            "_________________________________________________________________\n",
            "Layer (type)                 Output Shape              Param #   \n",
            "=================================================================\n",
            "conv2d (Conv2D)              (None, 126, 126, 32)      896       \n",
            "_________________________________________________________________\n",
            "batch_normalization (BatchNo (None, 126, 126, 32)      128       \n",
            "_________________________________________________________________\n",
            "activation (Activation)      (None, 126, 126, 32)      0         \n",
            "_________________________________________________________________\n",
            "max_pooling2d (MaxPooling2D) (None, 63, 63, 32)        0         \n",
            "_________________________________________________________________\n",
            "dropout (Dropout)            (None, 63, 63, 32)        0         \n",
            "_________________________________________________________________\n",
            "conv2d_1 (Conv2D)            (None, 61, 61, 64)        18496     \n",
            "_________________________________________________________________\n",
            "batch_normalization_1 (Batch (None, 61, 61, 64)        256       \n",
            "_________________________________________________________________\n",
            "activation_1 (Activation)    (None, 61, 61, 64)        0         \n",
            "_________________________________________________________________\n",
            "max_pooling2d_1 (MaxPooling2 (None, 30, 30, 64)        0         \n",
            "_________________________________________________________________\n",
            "dropout_1 (Dropout)          (None, 30, 30, 64)        0         \n",
            "_________________________________________________________________\n",
            "conv2d_2 (Conv2D)            (None, 28, 28, 128)       73856     \n",
            "_________________________________________________________________\n",
            "batch_normalization_2 (Batch (None, 28, 28, 128)       512       \n",
            "_________________________________________________________________\n",
            "activation_2 (Activation)    (None, 28, 28, 128)       0         \n",
            "_________________________________________________________________\n",
            "max_pooling2d_2 (MaxPooling2 (None, 14, 14, 128)       0         \n",
            "_________________________________________________________________\n",
            "dropout_2 (Dropout)          (None, 14, 14, 128)       0         \n",
            "_________________________________________________________________\n",
            "flatten (Flatten)            (None, 25088)             0         \n",
            "_________________________________________________________________\n",
            "dense (Dense)                (None, 64)                1605696   \n",
            "_________________________________________________________________\n",
            "dropout_3 (Dropout)          (None, 64)                0         \n",
            "_________________________________________________________________\n",
            "dense_1 (Dense)              (None, 2)                 130       \n",
            "=================================================================\n",
            "Total params: 1,699,970\n",
            "Trainable params: 1,699,522\n",
            "Non-trainable params: 448\n",
            "_________________________________________________________________\n"
          ],
          "name": "stdout"
        }
      ]
    },
    {
      "cell_type": "code",
      "metadata": {
        "id": "BdDzSVSjduDT"
      },
      "source": [
        "df[\"category\"] = df[\"category\"].replace({0:'cat', 1:'dog'})\n",
        "train_df, validate_df = train_test_split(df, test_size = 0.2, random_state = 42)\n",
        "train_df = train_df.reset_index(drop = True)\n",
        "validate_df = validate_df.reset_index(drop = True)\n",
        "\n",
        "total_train = train_df.shape[0]\n",
        "total_validate = validate_df.shape[0]\n",
        "batch_size = 15"
      ],
      "execution_count": 12,
      "outputs": []
    },
    {
      "cell_type": "code",
      "metadata": {
        "colab": {
          "base_uri": "https://localhost:8080/"
        },
        "id": "YbabktfGeTVQ",
        "outputId": "29a04b04-dca8-4c94-9b35-a53b6552c597"
      },
      "source": [
        "train_datagen = ImageDataGenerator(rotation_range = 15, rescale = 1./255, shear_range = 0.1, zoom_range = 0.2, horizontal_flip = True, width_shift_range = 0.1, height_shift_range = 0.1)\n",
        "train_generator = train_datagen.flow_from_dataframe(train_df, dataset_path, x_col = 'filename', y_col = 'category', target_size = Image_Size, class_mode = 'categorical', batch_size = batch_size)\n",
        "\n",
        "validation_datagen = ImageDataGenerator(rescale = 1./255)\n",
        "validation_generator = validation_datagen.flow_from_dataframe(validate_df, dataset_path, x_col = 'filename', y_col = 'category', target_size = Image_Size, class_mode = 'categorical', batch_size = batch_size)\n"
      ],
      "execution_count": 13,
      "outputs": [
        {
          "output_type": "stream",
          "text": [
            "Found 20000 validated image filenames belonging to 2 classes.\n",
            "Found 5000 validated image filenames belonging to 2 classes.\n"
          ],
          "name": "stdout"
        }
      ]
    },
    {
      "cell_type": "code",
      "metadata": {
        "colab": {
          "base_uri": "https://localhost:8080/"
        },
        "id": "bQ_Kc_7-aUes",
        "outputId": "6ec30730-fc96-4680-ccf3-4587aa3861ac"
      },
      "source": [
        "checkpoint = ModelCheckpoint(filepath = \"./1/weights.h5\", \n",
        "                             monitor = \"val_loss\", \n",
        "                             verbose = 1, \n",
        "                             save_best_only = True,\n",
        "                             mode = \"min\")\n",
        "\n",
        "callbacks_list = [checkpoint, reduce_lr, earlystop]\n",
        "epochs = 150\n",
        "history = model.fit(train_generator, \n",
        "                    epochs = epochs, \n",
        "                    validation_data = validation_generator, \n",
        "                    validation_steps = total_validate//batch_size, \n",
        "                    steps_per_epoch = total_train//batch_size, \n",
        "                    callbacks = callbacks_list) \n"
      ],
      "execution_count": null,
      "outputs": [
        {
          "output_type": "stream",
          "text": [
            "Epoch 1/150\n",
            "1333/1333 [==============================] - 172s 105ms/step - loss: 1.9285 - accuracy: 0.5742 - val_loss: 0.6643 - val_accuracy: 0.6180\n",
            "\n",
            "Epoch 00001: val_loss improved from inf to 0.66426, saving model to ./1/weights.h5\n",
            "Epoch 2/150\n",
            "1333/1333 [==============================] - 139s 105ms/step - loss: 0.6456 - accuracy: 0.6517 - val_loss: 0.6237 - val_accuracy: 0.6893\n",
            "\n",
            "Epoch 00002: val_loss improved from 0.66426 to 0.62370, saving model to ./1/weights.h5\n",
            "Epoch 3/150\n",
            "1333/1333 [==============================] - 139s 104ms/step - loss: 0.5870 - accuracy: 0.6910 - val_loss: 0.5370 - val_accuracy: 0.7361\n",
            "\n",
            "Epoch 00003: val_loss improved from 0.62370 to 0.53695, saving model to ./1/weights.h5\n",
            "Epoch 4/150\n",
            "1333/1333 [==============================] - 141s 106ms/step - loss: 0.5517 - accuracy: 0.7256 - val_loss: 0.4917 - val_accuracy: 0.7616\n",
            "\n",
            "Epoch 00004: val_loss improved from 0.53695 to 0.49175, saving model to ./1/weights.h5\n",
            "Epoch 5/150\n",
            "1333/1333 [==============================] - 140s 105ms/step - loss: 0.5219 - accuracy: 0.7407 - val_loss: 0.5051 - val_accuracy: 0.7538\n",
            "\n",
            "Epoch 00005: val_loss did not improve from 0.49175\n",
            "Epoch 6/150\n",
            "1333/1333 [==============================] - 141s 106ms/step - loss: 0.4944 - accuracy: 0.7658 - val_loss: 0.4472 - val_accuracy: 0.7956\n",
            "\n",
            "Epoch 00006: val_loss improved from 0.49175 to 0.44721, saving model to ./1/weights.h5\n",
            "Epoch 7/150\n",
            "1333/1333 [==============================] - 139s 104ms/step - loss: 0.4665 - accuracy: 0.7811 - val_loss: 0.4112 - val_accuracy: 0.8180\n",
            "\n",
            "Epoch 00007: val_loss improved from 0.44721 to 0.41120, saving model to ./1/weights.h5\n",
            "Epoch 8/150\n",
            "1333/1333 [==============================] - 139s 104ms/step - loss: 0.4453 - accuracy: 0.7942 - val_loss: 0.4721 - val_accuracy: 0.7726\n",
            "\n",
            "Epoch 00008: val_loss did not improve from 0.41120\n",
            "Epoch 9/150\n",
            "1333/1333 [==============================] - 139s 104ms/step - loss: 0.4299 - accuracy: 0.8060 - val_loss: 0.3794 - val_accuracy: 0.8302\n",
            "\n",
            "Epoch 00009: val_loss improved from 0.41120 to 0.37937, saving model to ./1/weights.h5\n",
            "Epoch 10/150\n",
            "1333/1333 [==============================] - 138s 104ms/step - loss: 0.4114 - accuracy: 0.8147 - val_loss: 0.4228 - val_accuracy: 0.8088\n",
            "\n",
            "Epoch 00010: val_loss did not improve from 0.37937\n",
            "Epoch 11/150\n",
            "1333/1333 [==============================] - 140s 105ms/step - loss: 0.4040 - accuracy: 0.8211 - val_loss: 0.3236 - val_accuracy: 0.8551\n",
            "\n",
            "Epoch 00011: val_loss improved from 0.37937 to 0.32364, saving model to ./1/weights.h5\n",
            "Epoch 12/150\n",
            "1333/1333 [==============================] - 141s 106ms/step - loss: 0.3862 - accuracy: 0.8289 - val_loss: 0.3725 - val_accuracy: 0.8412\n",
            "\n",
            "Epoch 00012: val_loss did not improve from 0.32364\n",
            "Epoch 13/150\n",
            "1333/1333 [==============================] - 141s 106ms/step - loss: 0.3768 - accuracy: 0.8346 - val_loss: 0.3464 - val_accuracy: 0.8498\n",
            "\n",
            "Epoch 00013: val_loss did not improve from 0.32364\n",
            "Epoch 14/150\n",
            "1333/1333 [==============================] - 140s 105ms/step - loss: 0.3630 - accuracy: 0.8417 - val_loss: 0.4033 - val_accuracy: 0.8164\n",
            "\n",
            "Epoch 00014: val_loss did not improve from 0.32364\n",
            "\n",
            "Epoch 00014: ReduceLROnPlateau reducing learning rate to 0.0004642000220483169.\n",
            "Epoch 15/150\n",
            "1333/1333 [==============================] - 138s 104ms/step - loss: 0.3349 - accuracy: 0.8575 - val_loss: 0.2956 - val_accuracy: 0.8791\n",
            "\n",
            "Epoch 00015: val_loss improved from 0.32364 to 0.29563, saving model to ./1/weights.h5\n",
            "Epoch 16/150\n",
            "1333/1333 [==============================] - 137s 102ms/step - loss: 0.3228 - accuracy: 0.8624 - val_loss: 0.2848 - val_accuracy: 0.8733\n",
            "\n",
            "Epoch 00016: val_loss improved from 0.29563 to 0.28482, saving model to ./1/weights.h5\n",
            "Epoch 17/150\n",
            "1333/1333 [==============================] - 138s 104ms/step - loss: 0.3214 - accuracy: 0.8610 - val_loss: 0.2762 - val_accuracy: 0.8869\n",
            "\n",
            "Epoch 00017: val_loss improved from 0.28482 to 0.27615, saving model to ./1/weights.h5\n",
            "Epoch 18/150\n",
            "1333/1333 [==============================] - 138s 104ms/step - loss: 0.3115 - accuracy: 0.8642 - val_loss: 0.2645 - val_accuracy: 0.8865\n",
            "\n",
            "Epoch 00018: val_loss improved from 0.27615 to 0.26454, saving model to ./1/weights.h5\n",
            "Epoch 19/150\n",
            "1333/1333 [==============================] - 137s 103ms/step - loss: 0.3103 - accuracy: 0.8699 - val_loss: 0.2466 - val_accuracy: 0.8973\n",
            "\n",
            "Epoch 00019: val_loss improved from 0.26454 to 0.24657, saving model to ./1/weights.h5\n",
            "Epoch 20/150\n",
            "1333/1333 [==============================] - 139s 105ms/step - loss: 0.2982 - accuracy: 0.8748 - val_loss: 0.2786 - val_accuracy: 0.8753\n",
            "\n",
            "Epoch 00020: val_loss did not improve from 0.24657\n",
            "Epoch 21/150\n",
            "1333/1333 [==============================] - 139s 104ms/step - loss: 0.3020 - accuracy: 0.8729 - val_loss: 0.2441 - val_accuracy: 0.8977\n",
            "\n",
            "Epoch 00021: val_loss improved from 0.24657 to 0.24405, saving model to ./1/weights.h5\n",
            "Epoch 22/150\n",
            "1333/1333 [==============================] - 139s 104ms/step - loss: 0.2930 - accuracy: 0.8763 - val_loss: 0.2424 - val_accuracy: 0.8953\n",
            "\n",
            "Epoch 00022: val_loss improved from 0.24405 to 0.24243, saving model to ./1/weights.h5\n",
            "Epoch 23/150\n",
            "1333/1333 [==============================] - 139s 104ms/step - loss: 0.2880 - accuracy: 0.8807 - val_loss: 0.2433 - val_accuracy: 0.8955\n",
            "\n",
            "Epoch 00023: val_loss did not improve from 0.24243\n",
            "Epoch 24/150\n",
            "1333/1333 [==============================] - 139s 104ms/step - loss: 0.2887 - accuracy: 0.8813 - val_loss: 0.2717 - val_accuracy: 0.8823\n",
            "\n",
            "Epoch 00024: val_loss did not improve from 0.24243\n",
            "Epoch 25/150\n",
            "1333/1333 [==============================] - 139s 104ms/step - loss: 0.2866 - accuracy: 0.8800 - val_loss: 0.2615 - val_accuracy: 0.8983\n",
            "\n",
            "Epoch 00025: val_loss did not improve from 0.24243\n",
            "\n",
            "Epoch 00025: ReduceLROnPlateau reducing learning rate to 0.0002154816460737493.\n",
            "Epoch 26/150\n",
            "1333/1333 [==============================] - 138s 104ms/step - loss: 0.2697 - accuracy: 0.8862 - val_loss: 0.2388 - val_accuracy: 0.9057\n",
            "\n",
            "Epoch 00026: val_loss improved from 0.24243 to 0.23876, saving model to ./1/weights.h5\n",
            "Epoch 27/150\n",
            "1333/1333 [==============================] - 140s 105ms/step - loss: 0.2692 - accuracy: 0.8888 - val_loss: 0.2550 - val_accuracy: 0.8983\n",
            "\n",
            "Epoch 00027: val_loss did not improve from 0.23876\n",
            "Epoch 28/150\n",
            "1333/1333 [==============================] - 138s 103ms/step - loss: 0.2639 - accuracy: 0.8877 - val_loss: 0.2714 - val_accuracy: 0.8841\n",
            "\n",
            "Epoch 00028: val_loss did not improve from 0.23876\n",
            "Epoch 29/150\n",
            "1333/1333 [==============================] - 138s 104ms/step - loss: 0.2649 - accuracy: 0.8908 - val_loss: 0.2262 - val_accuracy: 0.9095\n",
            "\n",
            "Epoch 00029: val_loss improved from 0.23876 to 0.22619, saving model to ./1/weights.h5\n",
            "Epoch 30/150\n",
            "1333/1333 [==============================] - 138s 104ms/step - loss: 0.2603 - accuracy: 0.8932 - val_loss: 0.2242 - val_accuracy: 0.9103\n",
            "\n",
            "Epoch 00030: val_loss improved from 0.22619 to 0.22421, saving model to ./1/weights.h5\n",
            "Epoch 31/150\n",
            "1333/1333 [==============================] - 138s 103ms/step - loss: 0.2580 - accuracy: 0.8927 - val_loss: 0.2479 - val_accuracy: 0.9079\n",
            "\n",
            "Epoch 00031: val_loss did not improve from 0.22421\n",
            "Epoch 32/150\n",
            "  54/1333 [>.............................] - ETA: 1:58 - loss: 0.2406 - accuracy: 0.9136"
          ],
          "name": "stdout"
        }
      ]
    },
    {
      "cell_type": "code",
      "metadata": {
        "id": "hh-c6zfffbrh",
        "colab": {
          "base_uri": "https://localhost:8080/"
        },
        "outputId": "d21c4704-d932-4839-9201-93c172bb82c4"
      },
      "source": [
        "tf.keras.backend.clear_session()\n",
        "model = Sequential()\n",
        "model.add(SeparableConv2D(32, (3, 3), input_shape = (Image_Width, Image_Height, Image_Channels)))\n",
        "model.add(BatchNormalization())\n",
        "model.add(Activation(\"relu\"))\n",
        "model.add(MaxPooling2D(pool_size = (2, 2)))\n",
        "model.add(Dropout(0.25))\n",
        "\n",
        "model.add(SeparableConv2D(64, (3, 3)))\n",
        "model.add(BatchNormalization())\n",
        "model.add(Activation(\"relu\"))\n",
        "model.add(MaxPooling2D(pool_size = (2, 2)))\n",
        "model.add(Dropout(0.25))\n",
        "\n",
        "model.add(SeparableConv2D(128, (3, 3)))\n",
        "model.add(BatchNormalization())\n",
        "model.add(Activation(\"relu\"))\n",
        "model.add(MaxPooling2D(pool_size = (2, 2)))\n",
        "model.add(Dropout(0.25))\n",
        "\n",
        "model.add(Flatten())\n",
        "model.add(Dense(64))\n",
        "model.add(Dropout(0.5))\n",
        "model.add(Dense(2, activation = 'softmax'))\n",
        "\n",
        "model.compile(loss = 'binary_crossentropy', optimizer = 'adam', metrics = ['accuracy'])\n",
        "model.summary()"
      ],
      "execution_count": 14,
      "outputs": [
        {
          "output_type": "stream",
          "text": [
            "Model: \"sequential\"\n",
            "_________________________________________________________________\n",
            "Layer (type)                 Output Shape              Param #   \n",
            "=================================================================\n",
            "separable_conv2d (SeparableC (None, 126, 126, 32)      155       \n",
            "_________________________________________________________________\n",
            "batch_normalization (BatchNo (None, 126, 126, 32)      128       \n",
            "_________________________________________________________________\n",
            "activation (Activation)      (None, 126, 126, 32)      0         \n",
            "_________________________________________________________________\n",
            "max_pooling2d (MaxPooling2D) (None, 63, 63, 32)        0         \n",
            "_________________________________________________________________\n",
            "dropout (Dropout)            (None, 63, 63, 32)        0         \n",
            "_________________________________________________________________\n",
            "separable_conv2d_1 (Separabl (None, 61, 61, 64)        2400      \n",
            "_________________________________________________________________\n",
            "batch_normalization_1 (Batch (None, 61, 61, 64)        256       \n",
            "_________________________________________________________________\n",
            "activation_1 (Activation)    (None, 61, 61, 64)        0         \n",
            "_________________________________________________________________\n",
            "max_pooling2d_1 (MaxPooling2 (None, 30, 30, 64)        0         \n",
            "_________________________________________________________________\n",
            "dropout_1 (Dropout)          (None, 30, 30, 64)        0         \n",
            "_________________________________________________________________\n",
            "separable_conv2d_2 (Separabl (None, 28, 28, 128)       8896      \n",
            "_________________________________________________________________\n",
            "batch_normalization_2 (Batch (None, 28, 28, 128)       512       \n",
            "_________________________________________________________________\n",
            "activation_2 (Activation)    (None, 28, 28, 128)       0         \n",
            "_________________________________________________________________\n",
            "max_pooling2d_2 (MaxPooling2 (None, 14, 14, 128)       0         \n",
            "_________________________________________________________________\n",
            "dropout_2 (Dropout)          (None, 14, 14, 128)       0         \n",
            "_________________________________________________________________\n",
            "flatten (Flatten)            (None, 25088)             0         \n",
            "_________________________________________________________________\n",
            "dense (Dense)                (None, 64)                1605696   \n",
            "_________________________________________________________________\n",
            "dropout_3 (Dropout)          (None, 64)                0         \n",
            "_________________________________________________________________\n",
            "dense_1 (Dense)              (None, 2)                 130       \n",
            "=================================================================\n",
            "Total params: 1,618,173\n",
            "Trainable params: 1,617,725\n",
            "Non-trainable params: 448\n",
            "_________________________________________________________________\n"
          ],
          "name": "stdout"
        }
      ]
    },
    {
      "cell_type": "code",
      "metadata": {
        "id": "INDHzPSEgCUP",
        "colab": {
          "base_uri": "https://localhost:8080/"
        },
        "outputId": "1e596ef8-f1e8-41c4-f72d-8e9b5438e502"
      },
      "source": [
        "checkpoint = ModelCheckpoint(filepath = \"./2/weights.h5\", \n",
        "                             monitor = \"val_loss\", \n",
        "                             verbose = 1, \n",
        "                             save_best_only = True,\n",
        "                             mode = \"min\")\n",
        "\n",
        "callbacks_list = [checkpoint, reduce_lr, earlystop]\n",
        "epochs = 60\n",
        "history = model.fit(train_generator, \n",
        "                    epochs = epochs, \n",
        "                    validation_data = validation_generator, \n",
        "                    validation_steps = total_validate//batch_size, \n",
        "                    steps_per_epoch = total_train//batch_size, \n",
        "                    callbacks = callbacks_list) \n"
      ],
      "execution_count": 15,
      "outputs": [
        {
          "output_type": "stream",
          "text": [
            "Epoch 1/60\n",
            "1333/1333 [==============================] - 177s 110ms/step - loss: 2.1659 - accuracy: 0.6026 - val_loss: 0.6370 - val_accuracy: 0.6478\n",
            "\n",
            "Epoch 00001: val_loss improved from inf to 0.63704, saving model to ./2/weights.h5\n",
            "Epoch 2/60\n",
            "1333/1333 [==============================] - 146s 110ms/step - loss: 0.6195 - accuracy: 0.6732 - val_loss: 0.5653 - val_accuracy: 0.7037\n",
            "\n",
            "Epoch 00002: val_loss improved from 0.63704 to 0.56527, saving model to ./2/weights.h5\n",
            "Epoch 3/60\n",
            "1333/1333 [==============================] - 146s 110ms/step - loss: 0.5848 - accuracy: 0.6895 - val_loss: 0.5341 - val_accuracy: 0.7283\n",
            "\n",
            "Epoch 00003: val_loss improved from 0.56527 to 0.53409, saving model to ./2/weights.h5\n",
            "Epoch 4/60\n",
            "1333/1333 [==============================] - 145s 109ms/step - loss: 0.5622 - accuracy: 0.7049 - val_loss: 0.5518 - val_accuracy: 0.7155\n",
            "\n",
            "Epoch 00004: val_loss did not improve from 0.53409\n",
            "Epoch 5/60\n",
            "1333/1333 [==============================] - 146s 110ms/step - loss: 0.5507 - accuracy: 0.7161 - val_loss: 0.5095 - val_accuracy: 0.7534\n",
            "\n",
            "Epoch 00005: val_loss improved from 0.53409 to 0.50945, saving model to ./2/weights.h5\n",
            "Epoch 6/60\n",
            "1333/1333 [==============================] - 146s 109ms/step - loss: 0.5288 - accuracy: 0.7345 - val_loss: 0.4926 - val_accuracy: 0.7590\n",
            "\n",
            "Epoch 00006: val_loss improved from 0.50945 to 0.49262, saving model to ./2/weights.h5\n",
            "Epoch 7/60\n",
            "1333/1333 [==============================] - 147s 110ms/step - loss: 0.5060 - accuracy: 0.7545 - val_loss: 0.5607 - val_accuracy: 0.7461\n",
            "\n",
            "Epoch 00007: val_loss did not improve from 0.49262\n",
            "Epoch 8/60\n",
            "1333/1333 [==============================] - 146s 110ms/step - loss: 0.4875 - accuracy: 0.7652 - val_loss: 0.4746 - val_accuracy: 0.7756\n",
            "\n",
            "Epoch 00008: val_loss improved from 0.49262 to 0.47457, saving model to ./2/weights.h5\n",
            "Epoch 9/60\n",
            "1333/1333 [==============================] - 148s 111ms/step - loss: 0.4705 - accuracy: 0.7759 - val_loss: 0.6006 - val_accuracy: 0.7245\n",
            "\n",
            "Epoch 00009: val_loss did not improve from 0.47457\n",
            "Epoch 10/60\n",
            "1333/1333 [==============================] - 147s 110ms/step - loss: 0.4583 - accuracy: 0.7894 - val_loss: 0.4581 - val_accuracy: 0.7952\n",
            "\n",
            "Epoch 00010: val_loss improved from 0.47457 to 0.45809, saving model to ./2/weights.h5\n",
            "Epoch 11/60\n",
            "1333/1333 [==============================] - 148s 111ms/step - loss: 0.4474 - accuracy: 0.7926 - val_loss: 0.4288 - val_accuracy: 0.8090\n",
            "\n",
            "Epoch 00011: val_loss improved from 0.45809 to 0.42883, saving model to ./2/weights.h5\n",
            "Epoch 12/60\n",
            "1333/1333 [==============================] - 147s 110ms/step - loss: 0.4357 - accuracy: 0.8000 - val_loss: 0.4284 - val_accuracy: 0.8022\n",
            "\n",
            "Epoch 00012: val_loss improved from 0.42883 to 0.42838, saving model to ./2/weights.h5\n",
            "Epoch 13/60\n",
            "1333/1333 [==============================] - 148s 111ms/step - loss: 0.4237 - accuracy: 0.8074 - val_loss: 0.6797 - val_accuracy: 0.7061\n",
            "\n",
            "Epoch 00013: val_loss did not improve from 0.42838\n",
            "Epoch 14/60\n",
            "1333/1333 [==============================] - 149s 112ms/step - loss: 0.4244 - accuracy: 0.8063 - val_loss: 0.5084 - val_accuracy: 0.7844\n",
            "\n",
            "Epoch 00014: val_loss did not improve from 0.42838\n",
            "\n",
            "Epoch 00014: ReduceLROnPlateau reducing learning rate to 0.0004642000220483169.\n",
            "Epoch 15/60\n",
            "1333/1333 [==============================] - 148s 111ms/step - loss: 0.3928 - accuracy: 0.8250 - val_loss: 0.4178 - val_accuracy: 0.8200\n",
            "\n",
            "Epoch 00015: val_loss improved from 0.42838 to 0.41784, saving model to ./2/weights.h5\n",
            "Epoch 16/60\n",
            "1333/1333 [==============================] - 147s 110ms/step - loss: 0.3872 - accuracy: 0.8282 - val_loss: 0.3946 - val_accuracy: 0.8308\n",
            "\n",
            "Epoch 00016: val_loss improved from 0.41784 to 0.39458, saving model to ./2/weights.h5\n",
            "Epoch 17/60\n",
            "1333/1333 [==============================] - 147s 110ms/step - loss: 0.3855 - accuracy: 0.8296 - val_loss: 0.4239 - val_accuracy: 0.8184\n",
            "\n",
            "Epoch 00017: val_loss did not improve from 0.39458\n",
            "Epoch 18/60\n",
            "1333/1333 [==============================] - 147s 110ms/step - loss: 0.3805 - accuracy: 0.8321 - val_loss: 0.4049 - val_accuracy: 0.8288\n",
            "\n",
            "Epoch 00018: val_loss did not improve from 0.39458\n",
            "Epoch 19/60\n",
            "1333/1333 [==============================] - 146s 110ms/step - loss: 0.3747 - accuracy: 0.8324 - val_loss: 0.4210 - val_accuracy: 0.8220\n",
            "\n",
            "Epoch 00019: val_loss did not improve from 0.39458\n",
            "\n",
            "Epoch 00019: ReduceLROnPlateau reducing learning rate to 0.0002154816460737493.\n",
            "Epoch 20/60\n",
            "1333/1333 [==============================] - 147s 110ms/step - loss: 0.3656 - accuracy: 0.8392 - val_loss: 0.3888 - val_accuracy: 0.8320\n",
            "\n",
            "Epoch 00020: val_loss improved from 0.39458 to 0.38877, saving model to ./2/weights.h5\n",
            "Epoch 21/60\n",
            "1333/1333 [==============================] - 146s 110ms/step - loss: 0.3648 - accuracy: 0.8392 - val_loss: 0.3830 - val_accuracy: 0.8358\n",
            "\n",
            "Epoch 00021: val_loss improved from 0.38877 to 0.38301, saving model to ./2/weights.h5\n",
            "Epoch 22/60\n",
            "1333/1333 [==============================] - 146s 109ms/step - loss: 0.3565 - accuracy: 0.8433 - val_loss: 0.3893 - val_accuracy: 0.8318\n",
            "\n",
            "Epoch 00022: val_loss did not improve from 0.38301\n",
            "Epoch 23/60\n",
            "1333/1333 [==============================] - 147s 110ms/step - loss: 0.3564 - accuracy: 0.8437 - val_loss: 0.3898 - val_accuracy: 0.8352\n",
            "\n",
            "Epoch 00023: val_loss did not improve from 0.38301\n",
            "Epoch 24/60\n",
            "1333/1333 [==============================] - 145s 109ms/step - loss: 0.3555 - accuracy: 0.8450 - val_loss: 0.3814 - val_accuracy: 0.8386\n",
            "\n",
            "Epoch 00024: val_loss improved from 0.38301 to 0.38135, saving model to ./2/weights.h5\n",
            "Epoch 25/60\n",
            "1333/1333 [==============================] - 148s 111ms/step - loss: 0.3517 - accuracy: 0.8464 - val_loss: 0.3960 - val_accuracy: 0.8378\n",
            "\n",
            "Epoch 00025: val_loss did not improve from 0.38135\n",
            "Epoch 26/60\n",
            "1333/1333 [==============================] - 147s 110ms/step - loss: 0.3496 - accuracy: 0.8450 - val_loss: 0.3816 - val_accuracy: 0.8394\n",
            "\n",
            "Epoch 00026: val_loss did not improve from 0.38135\n",
            "Epoch 27/60\n",
            "1333/1333 [==============================] - 147s 111ms/step - loss: 0.3478 - accuracy: 0.8497 - val_loss: 0.3886 - val_accuracy: 0.8340\n",
            "\n",
            "Epoch 00027: val_loss did not improve from 0.38135\n",
            "\n",
            "Epoch 00027: ReduceLROnPlateau reducing learning rate to 0.00010002658034791238.\n",
            "Epoch 28/60\n",
            "1333/1333 [==============================] - 148s 111ms/step - loss: 0.3386 - accuracy: 0.8517 - val_loss: 0.3425 - val_accuracy: 0.8551\n",
            "\n",
            "Epoch 00028: val_loss improved from 0.38135 to 0.34246, saving model to ./2/weights.h5\n",
            "Epoch 29/60\n",
            "1333/1333 [==============================] - 146s 109ms/step - loss: 0.3456 - accuracy: 0.8512 - val_loss: 0.3671 - val_accuracy: 0.8426\n",
            "\n",
            "Epoch 00029: val_loss did not improve from 0.34246\n",
            "Epoch 30/60\n",
            "1333/1333 [==============================] - 147s 111ms/step - loss: 0.3411 - accuracy: 0.8512 - val_loss: 0.4087 - val_accuracy: 0.8300\n",
            "\n",
            "Epoch 00030: val_loss did not improve from 0.34246\n",
            "Epoch 31/60\n",
            "1333/1333 [==============================] - 146s 109ms/step - loss: 0.3424 - accuracy: 0.8513 - val_loss: 0.3645 - val_accuracy: 0.8494\n",
            "\n",
            "Epoch 00031: val_loss did not improve from 0.34246\n",
            "\n",
            "Epoch 00031: ReduceLROnPlateau reducing learning rate to 4.64323402105947e-05.\n",
            "Epoch 32/60\n",
            "1333/1333 [==============================] - 145s 109ms/step - loss: 0.3352 - accuracy: 0.8577 - val_loss: 0.3562 - val_accuracy: 0.8494\n",
            "\n",
            "Epoch 00032: val_loss did not improve from 0.34246\n",
            "Epoch 33/60\n",
            "1333/1333 [==============================] - 148s 111ms/step - loss: 0.3352 - accuracy: 0.8529 - val_loss: 0.3557 - val_accuracy: 0.8531\n",
            "\n",
            "Epoch 00033: val_loss did not improve from 0.34246\n",
            "1333/1333 [==============================] - 145s 109ms/step - loss: 0.3379 - accuracy: 0.8537 - val_loss: 0.3615 - val_accuracy: 0.8492\n",
            "\n",
            "Epoch 00034: val_loss did not improve from 0.34246\n",
            "\n",
            "Epoch 00034: ReduceLROnPlateau reducing learning rate to 2.1553891495568676e-05.\n",
            "Epoch 35/60\n",
            "1333/1333 [==============================] - 145s 109ms/step - loss: 0.3363 - accuracy: 0.8547 - val_loss: 0.3621 - val_accuracy: 0.8509\n",
            "\n",
            "Epoch 00035: val_loss did not improve from 0.34246\n",
            "Epoch 36/60\n",
            "1333/1333 [==============================] - 145s 109ms/step - loss: 0.3336 - accuracy: 0.8555 - val_loss: 0.3607 - val_accuracy: 0.8503\n",
            "\n",
            "Epoch 00036: val_loss did not improve from 0.34246\n",
            "Epoch 37/60\n",
            "1333/1333 [==============================] - 147s 110ms/step - loss: 0.3280 - accuracy: 0.8585 - val_loss: 0.3522 - val_accuracy: 0.8557\n",
            "\n",
            "Epoch 00037: val_loss did not improve from 0.34246\n",
            "\n",
            "Epoch 00037: ReduceLROnPlateau reducing learning rate to 1.0005316295791999e-05.\n",
            "Epoch 38/60\n",
            "1333/1333 [==============================] - 146s 110ms/step - loss: 0.3328 - accuracy: 0.8547 - val_loss: 0.3501 - val_accuracy: 0.8549\n",
            "\n",
            "Epoch 00038: val_loss did not improve from 0.34246\n",
            "Epoch 00038: early stopping\n"
          ],
          "name": "stdout"
        }
      ]
    },
    {
      "cell_type": "code",
      "metadata": {
        "id": "tqGU53mDOBUg"
      },
      "source": [
        ""
      ],
      "execution_count": null,
      "outputs": []
    }
  ]
}